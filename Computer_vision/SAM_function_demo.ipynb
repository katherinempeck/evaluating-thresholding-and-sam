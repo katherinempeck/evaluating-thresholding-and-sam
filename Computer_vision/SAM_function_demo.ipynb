{
  "nbformat": 4,
  "nbformat_minor": 0,
  "metadata": {
    "colab": {
      "provenance": [],
      "gpuType": "L4"
    },
    "kernelspec": {
      "name": "python3",
      "display_name": "Python 3"
    },
    "language_info": {
      "name": "python"
    },
    "accelerator": "GPU"
  },
  "cells": [
    {
      "cell_type": "markdown",
      "source": [
        "This anlaysis was conducted in a Google Colaboratory (Colab) session which allows users to use a virtual GPU. This notebook is presented here as a demo of how to use the code in this repository."
      ],
      "metadata": {
        "id": "-XnXOIvxQaXp"
      }
    },
    {
      "cell_type": "markdown",
      "source": [
        "## Setup\n",
        "Colab creates a virtual Linux machine, so Linux/Unix terminal commands can run in cells to manage folders and files. The cell below creates a test_images folder, downloads the model weights, and installs the SAM Github repository."
      ],
      "metadata": {
        "id": "X3hwINTHQa-p"
      }
    },
    {
      "cell_type": "code",
      "source": [
        "#Setup code - should only need to be run once\n",
        "#Before running real code, be sure to also enable a CUDA GPU:\n",
        "  #Runtime --> change runtime type --> T4 GPU (free) or other GPU of choice\n",
        "#This will hold the manually uploaded image we'll work with in this notebook\n",
        "!mkdir test_images\n",
        "!mkdir output_images\n",
        "!mkdir sam_weights\n",
        "# Download model checkpoint into /content/sam_weights\n",
        "# Use wget to download from the url provided on the github and then install into /content/ subfolder using -P to specify folder path\n",
        "!wget https://dl.fbaipublicfiles.com/segment_anything/sam_vit_h_4b8939.pth -P /content/sam_weights\n",
        "# Install Segment Anything by cloning the git repository\n",
        "!pip install git+https://github.com/facebookresearch/segment-anything.git"
      ],
      "metadata": {
        "colab": {
          "base_uri": "https://localhost:8080/"
        },
        "id": "9CL9sNjYQdOS",
        "outputId": "7a09ce9c-89cd-4e5c-bee7-d4cff554a325"
      },
      "execution_count": 1,
      "outputs": [
        {
          "output_type": "stream",
          "name": "stdout",
          "text": [
            "--2024-07-25 23:45:32--  https://dl.fbaipublicfiles.com/segment_anything/sam_vit_h_4b8939.pth\n",
            "Resolving dl.fbaipublicfiles.com (dl.fbaipublicfiles.com)... 108.157.254.15, 108.157.254.124, 108.157.254.102, ...\n",
            "Connecting to dl.fbaipublicfiles.com (dl.fbaipublicfiles.com)|108.157.254.15|:443... connected.\n",
            "HTTP request sent, awaiting response... 200 OK\n",
            "Length: 2564550879 (2.4G) [binary/octet-stream]\n",
            "Saving to: ‘/content/sam_weights/sam_vit_h_4b8939.pth’\n",
            "\n",
            "sam_vit_h_4b8939.pt 100%[===================>]   2.39G   319MB/s    in 7.2s    \n",
            "\n",
            "2024-07-25 23:45:39 (342 MB/s) - ‘/content/sam_weights/sam_vit_h_4b8939.pth’ saved [2564550879/2564550879]\n",
            "\n",
            "Collecting git+https://github.com/facebookresearch/segment-anything.git\n",
            "  Cloning https://github.com/facebookresearch/segment-anything.git to /tmp/pip-req-build-xjvpoz0j\n",
            "  Running command git clone --filter=blob:none --quiet https://github.com/facebookresearch/segment-anything.git /tmp/pip-req-build-xjvpoz0j\n",
            "  Resolved https://github.com/facebookresearch/segment-anything.git to commit 6fdee8f2727f4506cfbbe553e23b895e27956588\n",
            "  Preparing metadata (setup.py) ... \u001b[?25l\u001b[?25hdone\n",
            "Building wheels for collected packages: segment_anything\n",
            "  Building wheel for segment_anything (setup.py) ... \u001b[?25l\u001b[?25hdone\n",
            "  Created wheel for segment_anything: filename=segment_anything-1.0-py3-none-any.whl size=36591 sha256=b1ffa0318b7fe39a35752de9c3877b437a4881b448063433ddf116cd7e41e470\n",
            "  Stored in directory: /tmp/pip-ephem-wheel-cache-8omvh0n7/wheels/10/cf/59/9ccb2f0a1bcc81d4fbd0e501680b5d088d690c6cfbc02dc99d\n",
            "Successfully built segment_anything\n",
            "Installing collected packages: segment_anything\n",
            "Successfully installed segment_anything-1.0\n"
          ]
        }
      ]
    },
    {
      "cell_type": "markdown",
      "source": [
        "This procedure makes use of geospatial libraries like rasterio and geopandas to manipulate the mask output for easy vectorizing and, eventually, measurements. If running in Colab, you'll need to manually install rasterio. Otherwise, if running this notebook in a regular Jupyter notebook session, you will need to make sure you have this installed in the Python environment you're using.\n"
      ],
      "metadata": {
        "id": "MfN3UqOmQgKd"
      }
    },
    {
      "cell_type": "code",
      "source": [
        "#Not included with Colab in stock version\n",
        "#Need to install once per session\n",
        "!pip install rasterio"
      ],
      "metadata": {
        "colab": {
          "base_uri": "https://localhost:8080/"
        },
        "id": "1iqStXhyQiKC",
        "outputId": "b84a85d9-cf1a-42f1-f52c-6ba3054c9a32"
      },
      "execution_count": 2,
      "outputs": [
        {
          "output_type": "stream",
          "name": "stdout",
          "text": [
            "Collecting rasterio\n",
            "  Downloading rasterio-1.3.10-cp310-cp310-manylinux2014_x86_64.whl.metadata (14 kB)\n",
            "Collecting affine (from rasterio)\n",
            "  Downloading affine-2.4.0-py3-none-any.whl.metadata (4.0 kB)\n",
            "Requirement already satisfied: attrs in /usr/local/lib/python3.10/dist-packages (from rasterio) (23.2.0)\n",
            "Requirement already satisfied: certifi in /usr/local/lib/python3.10/dist-packages (from rasterio) (2024.7.4)\n",
            "Requirement already satisfied: click>=4.0 in /usr/local/lib/python3.10/dist-packages (from rasterio) (8.1.7)\n",
            "Requirement already satisfied: cligj>=0.5 in /usr/local/lib/python3.10/dist-packages (from rasterio) (0.7.2)\n",
            "Requirement already satisfied: numpy in /usr/local/lib/python3.10/dist-packages (from rasterio) (1.25.2)\n",
            "Collecting snuggs>=1.4.1 (from rasterio)\n",
            "  Downloading snuggs-1.4.7-py3-none-any.whl.metadata (3.4 kB)\n",
            "Requirement already satisfied: click-plugins in /usr/local/lib/python3.10/dist-packages (from rasterio) (1.1.1)\n",
            "Requirement already satisfied: setuptools in /usr/local/lib/python3.10/dist-packages (from rasterio) (71.0.4)\n",
            "Requirement already satisfied: pyparsing>=2.1.6 in /usr/local/lib/python3.10/dist-packages (from snuggs>=1.4.1->rasterio) (3.1.2)\n",
            "Downloading rasterio-1.3.10-cp310-cp310-manylinux2014_x86_64.whl (21.5 MB)\n",
            "\u001b[2K   \u001b[90m━━━━━━━━━━━━━━━━━━━━━━━━━━━━━━━━━━━━━━━━\u001b[0m \u001b[32m21.5/21.5 MB\u001b[0m \u001b[31m91.4 MB/s\u001b[0m eta \u001b[36m0:00:00\u001b[0m\n",
            "\u001b[?25hDownloading snuggs-1.4.7-py3-none-any.whl (5.4 kB)\n",
            "Downloading affine-2.4.0-py3-none-any.whl (15 kB)\n",
            "Installing collected packages: snuggs, affine, rasterio\n",
            "Successfully installed affine-2.4.0 rasterio-1.3.10 snuggs-1.4.7\n"
          ]
        }
      ]
    },
    {
      "cell_type": "markdown",
      "source": [
        "The advantage of using Colab is that many common data science libraries come preinstalled. Again, if you run this locally in a Jupyter notebook you'll have to make sure the libraries below are installed."
      ],
      "metadata": {
        "id": "4DTTZmYSQoLG"
      }
    },
    {
      "cell_type": "code",
      "source": [
        "#Import necessary libraries\n",
        "\n",
        "#Import SAM functions\n",
        "#This needs to be cloned and installed from Github (see above)\n",
        "#e.g. pip install git+https://github.com/facebookresearch/segment-anything.git\n",
        "from segment_anything import SamPredictor, sam_model_registry, SamAutomaticMaskGenerator\n",
        "#Import other necessary libraries\n",
        "import os\n",
        "#Open and convert images\n",
        "import cv2\n",
        "#Display images and plots\n",
        "import matplotlib.pyplot as plt\n",
        "#Work with masks (which are created as numpy arrays)\n",
        "import numpy as np\n",
        "#For the purposes of this analysis, we're treating the masks as geographic features\n",
        "#This allows us to make area and shape calculations easily\n",
        "import geopandas as gpd\n",
        "import pandas as pd\n",
        "from shapely.geometry import shape\n",
        "import rasterio\n",
        "import rasterio.features\n",
        "#Calculations\n",
        "import math"
      ],
      "metadata": {
        "id": "Phcw8m-OQjf8"
      },
      "execution_count": 3,
      "outputs": []
    },
    {
      "cell_type": "markdown",
      "source": [
        "Import the functions from the repository to use in analysis"
      ],
      "metadata": {
        "id": "9ZcE3pIhQu4a"
      }
    },
    {
      "cell_type": "code",
      "source": [
        "from SAM_source_functions import *"
      ],
      "metadata": {
        "id": "JyX7VmKQQq-J"
      },
      "execution_count": 5,
      "outputs": []
    },
    {
      "cell_type": "markdown",
      "source": [
        "## Run"
      ],
      "metadata": {
        "id": "CyHrcwkTQ2bm"
      }
    },
    {
      "cell_type": "code",
      "source": [
        "#Define checkpoint and model type for use later\n",
        "checkpoint = os.path.join('/content/', \"sam_weights\", \"sam_vit_h_4b8939.pth\")\n",
        "#I think this could also just be 'default'\n",
        "model_type = 'vit_h'"
      ],
      "metadata": {
        "id": "wDX89G-PQ5YI"
      },
      "execution_count": 6,
      "outputs": []
    },
    {
      "cell_type": "markdown",
      "source": [
        "There are two functions in the repository: ```calculate_metrics()``` which saves a dataframe of metrics, and ```calculate_metrics_with_images()``` which saves a dataframe *and* saves images of each input with objects circles."
      ],
      "metadata": {
        "id": "RY_X5ZnfQ8xM"
      }
    },
    {
      "cell_type": "code",
      "source": [
        "#Function outputs a dataframe as well as a list of masks and vectorized shapes (Shapely geometries)\n",
        "#The masklist and geomlist can also be manually accessed later to do additional calculations\n",
        "df, masklist, geomlist = calculate_metrics_with_images('/content/test_images', model_type, checkpoint, '/content/output_images')"
      ],
      "metadata": {
        "id": "Wbns5lDSQ61u"
      },
      "execution_count": 7,
      "outputs": []
    },
    {
      "cell_type": "code",
      "source": [
        "#Save dataframe\n",
        "df.to_excel('/content/SAM_output.xlsx')"
      ],
      "metadata": {
        "id": "m7GZKBpMRVIX"
      },
      "execution_count": 8,
      "outputs": []
    },
    {
      "cell_type": "code",
      "source": [
        "#NOTE: to bulk download images from Colab, zip them first using this command (output .zip file destination/name followed by folder to zip)\n",
        "# !zip -r /content/output_images.zip /content/output_images"
      ],
      "metadata": {
        "id": "IOseqF41Rh2Y"
      },
      "execution_count": 9,
      "outputs": []
    }
  ]
}